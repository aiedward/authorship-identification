{
 "cells": [
  {
   "cell_type": "markdown",
   "metadata": {
    "collapsed": true
   },
   "source": [
    "classifiy and stack"
   ]
  },
  {
   "cell_type": "code",
   "execution_count": 1,
   "metadata": {},
   "outputs": [
    {
     "data": {
      "text/html": [
       "<script>requirejs.config({paths: { 'plotly': ['https://cdn.plot.ly/plotly-latest.min']},});if(!window.Plotly) {{require(['plotly'],function(plotly) {window.Plotly=plotly;});}}</script>"
      ],
      "text/plain": [
       "<script>requirejs.config({paths: { 'plotly': ['https://cdn.plot.ly/plotly-latest.min']},});if(!window.Plotly) {{require(['plotly'],function(plotly) {window.Plotly=plotly;});}}</script>"
      ]
     },
     "execution_count": 0,
     "metadata": {},
     "output_type": "execute_result"
    },
    {
     "data": {
      "text/html": [
       "<div>\n",
       "<style scoped>\n",
       "    .dataframe tbody tr th:only-of-type {\n",
       "        vertical-align: middle;\n",
       "    }\n",
       "\n",
       "    .dataframe tbody tr th {\n",
       "        vertical-align: top;\n",
       "    }\n",
       "\n",
       "    .dataframe thead th {\n",
       "        text-align: right;\n",
       "    }\n",
       "</style>\n",
       "<table border=\"1\" class=\"dataframe\">\n",
       "  <thead>\n",
       "    <tr style=\"text-align: right;\">\n",
       "      <th></th>\n",
       "      <th>Id</th>\n",
       "      <th>label</th>\n",
       "      <th>query</th>\n",
       "      <th>type</th>\n",
       "      <th>query_seg</th>\n",
       "      <th>query_seg_no_stopword</th>\n",
       "      <th>query_length</th>\n",
       "      <th>author_label</th>\n",
       "    </tr>\n",
       "  </thead>\n",
       "  <tbody>\n",
       "    <tr>\n",
       "      <th>0</th>\n",
       "      <td>0</td>\n",
       "      <td>3</td>\n",
       "      <td>今年22岁，即将在2014年6月毕业的西昌学院大四学生吴学娅选择不大。作为食品专业的学生，她...</td>\n",
       "      <td>train</td>\n",
       "      <td>今年 22 岁 ， 即将 在 2014 年 6 月 毕业 的 西昌 学院 大四 学生 吴学娅...</td>\n",
       "      <td>今年 22 岁 2014 毕业 西昌 学院 大四 学生 吴学娅 选择 食品 专业 学生 去年...</td>\n",
       "      <td>510</td>\n",
       "      <td>Machine Summary</td>\n",
       "    </tr>\n",
       "    <tr>\n",
       "      <th>1</th>\n",
       "      <td>1</td>\n",
       "      <td>2</td>\n",
       "      <td>“现在我们每天生产40万到50万个，回收4,000-5,000个包括我们生产的死灯泡。”他说...</td>\n",
       "      <td>train</td>\n",
       "      <td>“ 现在 我们 每天 生产 40 万到 50 万个 ， 回收 4 , 000 - 5 , 0...</td>\n",
       "      <td>现在 每天 生产 40 万到 50 万个 回收 000 000 包括 生产 死 灯泡 说 Y...</td>\n",
       "      <td>368</td>\n",
       "      <td>Machine Translate</td>\n",
       "    </tr>\n",
       "    <tr>\n",
       "      <th>2</th>\n",
       "      <td>2</td>\n",
       "      <td>0</td>\n",
       "      <td>。记者悄悄来到医院二楼病房。只见一名睫毛浓密、皮肤黝黑的小姑娘被捆住双脚，躺在病床上。她就是...</td>\n",
       "      <td>train</td>\n",
       "      <td>。 记者 悄悄 来到 医院 二楼 病房 。 只见 一名 睫毛 浓密 、 皮肤 黝黑 的 小姑...</td>\n",
       "      <td>记者 悄悄 来到 医院 二楼 病房 只见 一名 睫毛 浓密 皮肤 黝黑 小姑娘 捆住 双脚 ...</td>\n",
       "      <td>430</td>\n",
       "      <td>Human Author</td>\n",
       "    </tr>\n",
       "    <tr>\n",
       "      <th>3</th>\n",
       "      <td>3</td>\n",
       "      <td>2</td>\n",
       "      <td>一带一路倡议被形容为针对印度。反华立场可以帮助印度政治家赢得选票。中国威胁论被夸大了一段时间...</td>\n",
       "      <td>train</td>\n",
       "      <td>一带 一路 倡议 被 形容 为 针对 印度 。 反华 立场 可以 帮助 印度 政治家 赢得 ...</td>\n",
       "      <td>一带 一路 倡议 形容 针对 印度 反华 立场 帮助 印度 政治家 赢得 选票 威胁论 夸大...</td>\n",
       "      <td>391</td>\n",
       "      <td>Machine Translate</td>\n",
       "    </tr>\n",
       "    <tr>\n",
       "      <th>4</th>\n",
       "      <td>4</td>\n",
       "      <td>0</td>\n",
       "      <td>如同中国的金融体系没有在这次全球的金融危机中受到重大冲击是得益于中国尚未开放的资本市场和外汇...</td>\n",
       "      <td>train</td>\n",
       "      <td>如同 中国 的 金融体系 没有 在 这次 全球 的 金融危机 中 受到 重大 冲击 是 得益...</td>\n",
       "      <td>如同 金融体系 这次 全球 金融危机 受到 重大 冲击 得益于 尚未 开放 资本 市场 外汇...</td>\n",
       "      <td>499</td>\n",
       "      <td>Human Author</td>\n",
       "    </tr>\n",
       "  </tbody>\n",
       "</table>\n",
       "</div>"
      ],
      "text/plain": [
       "<div>\n",
       "<style scoped>\n",
       "    .dataframe tbody tr th:only-of-type {\n",
       "        vertical-align: middle;\n",
       "    }\n",
       "\n",
       "    .dataframe tbody tr th {\n",
       "        vertical-align: top;\n",
       "    }\n",
       "\n",
       "    .dataframe thead th {\n",
       "        text-align: right;\n",
       "    }\n",
       "</style>\n",
       "<table border=\"1\" class=\"dataframe\">\n",
       "  <thead>\n",
       "    <tr style=\"text-align: right;\">\n",
       "      <th></th>\n",
       "      <th>Id</th>\n",
       "      <th>label</th>\n",
       "      <th>query</th>\n",
       "      <th>type</th>\n",
       "      <th>query_seg</th>\n",
       "      <th>query_seg_no_stopword</th>\n",
       "      <th>query_length</th>\n",
       "      <th>author_label</th>\n",
       "    </tr>\n",
       "  </thead>\n",
       "  <tbody>\n",
       "    <tr>\n",
       "      <th>0</th>\n",
       "      <td>0</td>\n",
       "      <td>3</td>\n",
       "      <td>今年22岁，即将在2014年6月毕业的西昌学院大四学生吴学娅选择不大。作为食品专业的学生，她...</td>\n",
       "      <td>train</td>\n",
       "      <td>今年 22 岁 ， 即将 在 2014 年 6 月 毕业 的 西昌 学院 大四 学生 吴学娅...</td>\n",
       "      <td>今年 22 岁 2014 毕业 西昌 学院 大四 学生 吴学娅 选择 食品 专业 学生 去年...</td>\n",
       "      <td>510</td>\n",
       "      <td>Machine Summary</td>\n",
       "    </tr>\n",
       "    <tr>\n",
       "      <th>1</th>\n",
       "      <td>1</td>\n",
       "      <td>2</td>\n",
       "      <td>“现在我们每天生产40万到50万个，回收4,000-5,000个包括我们生产的死灯泡。”他说...</td>\n",
       "      <td>train</td>\n",
       "      <td>“ 现在 我们 每天 生产 40 万到 50 万个 ， 回收 4 , 000 - 5 , 0...</td>\n",
       "      <td>现在 每天 生产 40 万到 50 万个 回收 000 000 包括 生产 死 灯泡 说 Y...</td>\n",
       "      <td>368</td>\n",
       "      <td>Machine Translate</td>\n",
       "    </tr>\n",
       "    <tr>\n",
       "      <th>2</th>\n",
       "      <td>2</td>\n",
       "      <td>0</td>\n",
       "      <td>。记者悄悄来到医院二楼病房。只见一名睫毛浓密、皮肤黝黑的小姑娘被捆住双脚，躺在病床上。她就是...</td>\n",
       "      <td>train</td>\n",
       "      <td>。 记者 悄悄 来到 医院 二楼 病房 。 只见 一名 睫毛 浓密 、 皮肤 黝黑 的 小姑...</td>\n",
       "      <td>记者 悄悄 来到 医院 二楼 病房 只见 一名 睫毛 浓密 皮肤 黝黑 小姑娘 捆住 双脚 ...</td>\n",
       "      <td>430</td>\n",
       "      <td>Human Author</td>\n",
       "    </tr>\n",
       "    <tr>\n",
       "      <th>3</th>\n",
       "      <td>3</td>\n",
       "      <td>2</td>\n",
       "      <td>一带一路倡议被形容为针对印度。反华立场可以帮助印度政治家赢得选票。中国威胁论被夸大了一段时间...</td>\n",
       "      <td>train</td>\n",
       "      <td>一带 一路 倡议 被 形容 为 针对 印度 。 反华 立场 可以 帮助 印度 政治家 赢得 ...</td>\n",
       "      <td>一带 一路 倡议 形容 针对 印度 反华 立场 帮助 印度 政治家 赢得 选票 威胁论 夸大...</td>\n",
       "      <td>391</td>\n",
       "      <td>Machine Translate</td>\n",
       "    </tr>\n",
       "    <tr>\n",
       "      <th>4</th>\n",
       "      <td>4</td>\n",
       "      <td>0</td>\n",
       "      <td>如同中国的金融体系没有在这次全球的金融危机中受到重大冲击是得益于中国尚未开放的资本市场和外汇...</td>\n",
       "      <td>train</td>\n",
       "      <td>如同 中国 的 金融体系 没有 在 这次 全球 的 金融危机 中 受到 重大 冲击 是 得益...</td>\n",
       "      <td>如同 金融体系 这次 全球 金融危机 受到 重大 冲击 得益于 尚未 开放 资本 市场 外汇...</td>\n",
       "      <td>499</td>\n",
       "      <td>Human Author</td>\n",
       "    </tr>\n",
       "  </tbody>\n",
       "</table>\n",
       "</div>"
      ]
     },
     "execution_count": 1,
     "metadata": {},
     "output_type": "execute_result"
    }
   ],
   "source": [
    "import numpy as np\n",
    "import pandas as pd\n",
    "import cfg\n",
    "from sklearn import metrics\n",
    "from sklearn.metrics import classification_report\n",
    "from sklearn.model_selection import train_test_split\n",
    "import matplotlib.pyplot as plt\n",
    "from wordcloud import WordCloud, STOPWORDS, ImageColorGenerator\n",
    "import jieba\n",
    "import seaborn as sns\n",
    "import plotly.offline as py\n",
    "\n",
    "py.init_notebook_mode(connected=True)\n",
    "import plotly.graph_objs as go\n",
    "import plotly.tools as tls\n",
    "from collections import Counter\n",
    "from scipy.misc import imread\n",
    "from sklearn.feature_extraction.text import TfidfVectorizer, CountVectorizer\n",
    "from sklearn.decomposition import NMF, LatentDirichletAllocation\n",
    "\n",
    "df_all = pd.read_pickle(cfg.data_path + 'df_all_1k.pkl')\n",
    "df_all.head()"
   ]
  },
  {
   "cell_type": "code",
   "execution_count": 2,
   "metadata": {},
   "outputs": [
    {
     "name": "stdout",
     "output_type": "stream",
     "text": [
      "df_tr.shape:  (900, 8)\n(720,) (720,) (180,) (180,)\n345    法院 审理 查明 张波 张涛 今年 23 岁 系 孪生兄弟 2007 2009 上半年 二人...\n677    以前 取保候审 判处 缓刑 未成年人 处于 放羊 状态 只 需 定期 司法 机关报 就行了 ...\n229    新疆 政法委 官员 乃比江 接受 环球时报 记者 专访 表示 以热 比娅 为首 疆独 策划 ...\n210    副 部长 崔天凯 具体 阐释 太平洋地区 提供 发展 援助 几个 特点 完全 尊重 受援国 ...\n188    G 山 mountain   fragrant   mountain   Beijing 秋...\nName: query_seg_no_stopword, dtype: object\n0    241\n2    168\n1    158\n3    153\nName: label, dtype: int64 \n 0    59\n2    48\n1    37\n3    36\nName: label, dtype: int64\n"
     ]
    }
   ],
   "source": [
    "df_tr = df_all.loc[df_all['type'] == 'train']\n",
    "df_te = df_all.loc[df_all['type'] == 'test']\n",
    "print('df_tr.shape: ',df_tr.shape)\n",
    "\n",
    "X = df_tr['query_seg_no_stopword']\n",
    "y = df_tr['label']\n",
    "\n",
    "\n",
    "X_train, X_test, y_train, y_test = train_test_split(X, y, test_size=0.2, random_state=123)\n",
    "print(X_train.shape, y_train.shape, X_test.shape, y_test.shape)\n",
    "\n",
    "print(X_train[:5])\n",
    "# examine the class distribution in y_train and y_test\n",
    "print(y_train.value_counts(),'\\n', y_test.value_counts())"
   ]
  },
  {
   "cell_type": "code",
   "execution_count": 3,
   "metadata": {},
   "outputs": [
    {
     "data": {
      "text/plain": [
       "CountVectorizer(analyzer='word', binary=False, decode_error='strict',\n        dtype=<class 'numpy.int64'>, encoding='utf-8', input='content',\n        lowercase=False, max_df=1.0, max_features=None, min_df=1,\n        ngram_range=(1, 1), preprocessor=None, stop_words=None,\n        strip_accents=None, token_pattern='(?u)\\\\b\\\\w+\\\\b|\\\\,|\\\\.|\\\\;|\\\\:',\n        tokenizer=None, vocabulary=None)"
      ]
     },
     "execution_count": 3,
     "metadata": {},
     "output_type": "execute_result"
    }
   ],
   "source": [
    "vect = CountVectorizer(lowercase=False, token_pattern=r'(?u)\\b\\w+\\b|\\,|\\.|\\;|\\:')\n",
    "vect"
   ]
  },
  {
   "cell_type": "code",
   "execution_count": 4,
   "metadata": {},
   "outputs": [
    {
     "data": {
      "text/plain": [
       "<720x24725 sparse matrix of type '<class 'numpy.int64'>'\n\twith 75816 stored elements in Compressed Sparse Row format>"
      ]
     },
     "execution_count": 4,
     "metadata": {},
     "output_type": "execute_result"
    }
   ],
   "source": [
    "# learn the vocabulary in the training data, then use it to create a document-term matrix\n",
    "X_train_dtm = vect.fit_transform(X_train)\n",
    "\n",
    "# transform the test data using the earlier fitted vocabulary, into a document-term matrix\n",
    "X_test_dtm = vect.transform(X_test)\n",
    "# examine the document-term matrix from X_test\n",
    "X_train_dtm"
   ]
  },
  {
   "cell_type": "code",
   "execution_count": 5,
   "metadata": {},
   "outputs": [
    {
     "name": "stdout",
     "output_type": "stream",
     "text": [
      "Concept 0:\n路\n类型\n项目\n平米\n配套\n周边\n售价\n公园\n装修\n建筑\n \nConcept 1:\n.\n亿元\n10\n增长\n0\n分别\n2\n1\n5\n股份\n \nConcept 2:\n说\n发展\n经济\n工作\n国家\n问题\n进行\n政府\n文化\n已经\n \nConcept 3:\n路\n说\n南\n发展\n一居\n工作\n二七\n问题\n经济\n下车\n \n"
     ]
    }
   ],
   "source": [
    "from sklearn.decomposition import TruncatedSVD\n",
    "\n",
    "lsa = TruncatedSVD(n_components=4, n_iter=500)\n",
    "lsa.fit(X_train_dtm)\n",
    "assert isinstance(vect.get_feature_names, object)\n",
    "terms = vect.get_feature_names()\n",
    "for i, comp in enumerate(lsa.components_):\n",
    "    termsInComp = zip(terms, comp)\n",
    "    sortedterms = sorted(termsInComp, key=lambda x: x[1], reverse=True)[:10]\n",
    "    print(\"Concept %d:\" % i)\n",
    "    for term in sortedterms:\n",
    "        print(term[0])\n",
    "    print(\" \")"
   ]
  },
  {
   "cell_type": "code",
   "execution_count": 6,
   "metadata": {},
   "outputs": [
    {
     "data": {
      "text/plain": [
       "{'alpha': 100.0}"
      ]
     },
     "execution_count": 6,
     "metadata": {},
     "output_type": "execute_result"
    }
   ],
   "source": [
    "from sklearn.naive_bayes import MultinomialNB\n",
    "nb = MultinomialNB()\n",
    "\n",
    "# tune hyperparameter alpha = [0.01, 0.1, 1, 10, 100]\n",
    "from sklearn.model_selection import GridSearchCV\n",
    "grid_values = {'alpha':[0.01, 0.1, 1.0, 10.0, 100.0]}\n",
    "grid_nb = GridSearchCV(nb, param_grid=grid_values, scoring='neg_log_loss')\n",
    "grid_nb.fit(X_train_dtm, y_train)\n",
    "grid_nb.best_params_"
   ]
  },
  {
   "cell_type": "code",
   "execution_count": 7,
   "metadata": {},
   "outputs": [
    {
     "name": "stdout",
     "output_type": "stream",
     "text": [
      "train acc: 0.7694444444444445\ntest acc: 0.5444444444444444\n"
     ]
    }
   ],
   "source": [
    "# set with recommended hyperparameters\n",
    "nb = MultinomialNB(alpha=100.0)\n",
    "# train the model using X_train_dtm & y_train\n",
    "nb.fit(X_train_dtm, y_train)\n",
    "\n",
    "# compute the accuracy of training data predictions\n",
    "y_pred_train = nb.predict(X_train_dtm)\n",
    "print('train acc:', metrics.accuracy_score(y_train, y_pred_train))\n",
    "\n",
    "# make author (class) predictions for X_test_dtm\n",
    "y_pred_test = nb.predict(X_test_dtm)\n",
    "print('test acc:', metrics.accuracy_score(y_test, y_pred_test))"
   ]
  },
  {
   "cell_type": "markdown",
   "metadata": {},
   "source": [
    "Add char count as a feature to martix\n"
   ]
  },
  {
   "cell_type": "code",
   "execution_count": 8,
   "metadata": {},
   "outputs": [],
   "source": [
    "def add_feature(X, feature_to_add):\n",
    "    '''\n",
    "    Returns sparse feature matrix with added feature.\n",
    "    feature_to_add can also be a list of features.\n",
    "    '''\n",
    "    from scipy.sparse import csr_matrix, hstack\n",
    "    return hstack([X, csr_matrix(feature_to_add).T], 'csr')"
   ]
  },
  {
   "cell_type": "code",
   "execution_count": 9,
   "metadata": {},
   "outputs": [
    {
     "name": "stdout",
     "output_type": "stream",
     "text": [
      "punc: !\"#$%&'()*+,-./:;<=>?@[\\]^_`{|}~\n345    0\n677    2\n229    0\n210    0\n188    0\nName: query_seg_no_stopword, dtype: int64\n345    281\n677    441\n229    385\n210    491\n188    452\nName: query_seg_no_stopword, dtype: int64\n"
     ]
    },
    {
     "data": {
      "text/plain": [
       "<720x24727 sparse matrix of type '<class 'numpy.int64'>'\n\twith 76684 stored elements in Compressed Sparse Row format>"
      ]
     },
     "execution_count": 9,
     "metadata": {},
     "output_type": "execute_result"
    }
   ],
   "source": [
    "from string import punctuation\n",
    "print('punc:', punctuation)\n",
    "X_train_chars = X_train.str.len()\n",
    "X_train_punc = X_train.apply(lambda x: len([c for c in str(x) if c in punctuation]))\n",
    "X_test_chars = X_test.str.len()\n",
    "X_test_punc = X_test.apply(lambda x: len([c for c in str(x) if c in punctuation]))\n",
    "print(X_train_punc[:5])\n",
    "\n",
    "print(X_train_chars[:5])\n",
    "\n",
    "X_train_dtm = add_feature(X_train_dtm, [X_train_chars, X_train_punc])\n",
    "X_test_dtm = add_feature(X_test_dtm, [X_test_chars, X_test_punc])\n",
    "\n",
    "X_train_dtm"
   ]
  },
  {
   "cell_type": "code",
   "execution_count": 10,
   "metadata": {},
   "outputs": [
    {
     "data": {
      "text/plain": [
       "MultinomialNB(alpha=0.1, class_prior=None, fit_prior=True)"
      ]
     },
     "execution_count": 10,
     "metadata": {},
     "output_type": "execute_result"
    }
   ],
   "source": [
    "# set with recommended hyperparameters\n",
    "nb = MultinomialNB(alpha=0.1)\n",
    "# train the model using X_train_dtm & y_train\n",
    "nb.fit(X_train_dtm, y_train)"
   ]
  },
  {
   "cell_type": "code",
   "execution_count": 11,
   "metadata": {},
   "outputs": [
    {
     "name": "stdout",
     "output_type": "stream",
     "text": [
      "train acc: 1.0\ntest acc: 0.6722222222222223\n[[32  1  6 20]\n [ 1 27  7  2]\n [ 0  0 47  1]\n [14  1  6 15]]\n             precision    recall  f1-score   support\n\n          0       0.68      0.54      0.60        59\n          1       0.93      0.73      0.82        37\n          2       0.71      0.98      0.82        48\n          3       0.39      0.42      0.41        36\n\navg / total       0.68      0.67      0.67       180\n\n"
     ]
    }
   ],
   "source": [
    "# compute the accuracy of training data predictions\n",
    "y_pred_train = nb.predict(X_train_dtm)\n",
    "print('train acc:', metrics.accuracy_score(y_train, y_pred_train))\n",
    "\n",
    "# make author (class) predictions for X_test_dtm\n",
    "y_pred_test = nb.predict(X_test_dtm)\n",
    "print('test acc:', metrics.accuracy_score(y_test, y_pred_test))\n",
    "\n",
    "# look at the confusion matrix for y_test\n",
    "print(metrics.confusion_matrix(y_test, y_pred_test))\n",
    "print(classification_report(y_test, y_pred_test))"
   ]
  },
  {
   "cell_type": "code",
   "execution_count": 12,
   "metadata": {},
   "outputs": [
    {
     "name": "stdout",
     "output_type": "stream",
     "text": [
      "[[1.47932821e-031 1.53335476e-060 1.00000000e+000 2.19730162e-044]\n [1.72949788e-014 2.03686661e-076 4.59114959e-018 1.00000000e+000]\n [1.94611621e-012 2.02300294e-151 6.32873974e-071 1.00000000e+000]\n [3.28504088e-036 3.06193418e-032 1.00000000e+000 1.97663592e-043]\n [1.00000000e+000 4.24750725e-087 1.53432721e-028 1.14652928e-029]]\n"
     ]
    }
   ],
   "source": [
    "# calculate predicted probabilities for X_test_dtm\n",
    "y_pred_prob = nb.predict_proba(X_test_dtm)\n",
    "print(y_pred_prob[:5])"
   ]
  },
  {
   "cell_type": "markdown",
   "metadata": {},
   "source": [
    "using Logistic Regression"
   ]
  },
  {
   "cell_type": "code",
   "execution_count": 13,
   "metadata": {},
   "outputs": [],
   "source": [
    "# import and instantiate the Logistic Regression model\n",
    "from sklearn.linear_model import LogisticRegression\n",
    "logreg = LogisticRegression(random_state=0)"
   ]
  },
  {
   "cell_type": "code",
   "execution_count": 14,
   "metadata": {},
   "outputs": [
    {
     "data": {
      "text/plain": [
       "{'C': 0.1}"
      ]
     },
     "execution_count": 14,
     "metadata": {},
     "output_type": "execute_result"
    }
   ],
   "source": [
    "# tune hyperparameter\n",
    "grid_values = {'C':[0.01, 0.1, 1.0, 3.0, 5.0]}\n",
    "grid_logreg = GridSearchCV(logreg, param_grid=grid_values, scoring='neg_log_loss')\n",
    "grid_logreg.fit(X_train_dtm, y_train)\n",
    "grid_logreg.best_params_"
   ]
  },
  {
   "cell_type": "code",
   "execution_count": 15,
   "metadata": {},
   "outputs": [
    {
     "data": {
      "text/plain": [
       "LogisticRegression(C=0.1, class_weight=None, dual=False, fit_intercept=True,\n          intercept_scaling=1, max_iter=100, multi_class='ovr', n_jobs=1,\n          penalty='l2', random_state=0, solver='liblinear', tol=0.0001,\n          verbose=0, warm_start=False)"
      ]
     },
     "execution_count": 15,
     "metadata": {},
     "output_type": "execute_result"
    }
   ],
   "source": [
    "# set with recommended parameter\n",
    "logreg = LogisticRegression(C=0.1, random_state=0)\n",
    "# train the model using X_train_dtm & y_train\n",
    "logreg.fit(X_train_dtm, y_train)"
   ]
  },
  {
   "cell_type": "code",
   "execution_count": 16,
   "metadata": {},
   "outputs": [
    {
     "name": "stdout",
     "output_type": "stream",
     "text": [
      "train acc: 1.0\ntest acc: 0.6888888888888889\n"
     ]
    }
   ],
   "source": [
    "# compute the accuracy of training data predictions\n",
    "y_pred_train = logreg.predict(X_train_dtm)\n",
    "print('train acc:', metrics.accuracy_score(y_train, y_pred_train))\n",
    "\n",
    "# make author (class) predictions for X_test_dtm\n",
    "y_pred_test = logreg.predict(X_test_dtm)\n",
    "print('test acc:', metrics.accuracy_score(y_test, y_pred_test))"
   ]
  },
  {
   "cell_type": "markdown",
   "metadata": {},
   "source": [
    ""
   ]
  },
  {
   "cell_type": "code",
   "execution_count": 22,
   "metadata": {},
   "outputs": [],
   "source": [
    "# import and instantiate the XGB model\n",
    "from xgboost import XGBClassifier\n",
    "model = XGBClassifier()"
   ]
  },
  {
   "cell_type": "code",
   "execution_count": 24,
   "metadata": {},
   "outputs": [
    {
     "data": {
      "text/plain": [
       "{'max_depth': 5}"
      ]
     },
     "execution_count": 24,
     "metadata": {},
     "output_type": "execute_result"
    }
   ],
   "source": [
    "# tune hyperparameter\n",
    "grid_values = {'max_depth': [3, 5, 7]}\n",
    "grid_logreg = GridSearchCV(model, param_grid=grid_values, scoring='neg_log_loss')\n",
    "grid_logreg.fit(X_train_dtm, y_train)\n",
    "grid_logreg.best_params_"
   ]
  },
  {
   "cell_type": "code",
   "execution_count": 25,
   "metadata": {},
   "outputs": [
    {
     "data": {
      "text/plain": [
       "XGBClassifier(base_score=0.5, booster='gbtree', colsample_bylevel=1,\n       colsample_bytree=1, gamma=0, learning_rate=0.1, max_delta_step=0,\n       max_depth=5, min_child_weight=1, missing=None, n_estimators=100,\n       n_jobs=1, nthread=None, objective='multi:softprob', random_state=0,\n       reg_alpha=0, reg_lambda=1, scale_pos_weight=1, seed=None,\n       silent=True, subsample=1)"
      ]
     },
     "execution_count": 25,
     "metadata": {},
     "output_type": "execute_result"
    }
   ],
   "source": [
    "# set with recommended parameter\n",
    "model = XGBClassifier(max_depth=5)\n",
    "# train the model using X_train_dtm & y_train\n",
    "model.fit(X_train_dtm, y_train)"
   ]
  },
  {
   "cell_type": "code",
   "execution_count": 26,
   "metadata": {},
   "outputs": [
    {
     "name": "stdout",
     "output_type": "stream",
     "text": [
      "train acc: 0.9972222222222222\ntest acc: 0.6611111111111111\n"
     ]
    },
    {
     "name": "stderr",
     "output_type": "stream",
     "text": [
      "/Library/Frameworks/Python.framework/Versions/3.6/lib/python3.6/site-packages/sklearn/preprocessing/label.py:171: DeprecationWarning:\n\nThe truth value of an empty array is ambiguous. Returning False, but in future this will result in an error. Use `array.size > 0` to check that an array is not empty.\n\n/Library/Frameworks/Python.framework/Versions/3.6/lib/python3.6/site-packages/sklearn/preprocessing/label.py:171: DeprecationWarning:\n\nThe truth value of an empty array is ambiguous. Returning False, but in future this will result in an error. Use `array.size > 0` to check that an array is not empty.\n\n"
     ]
    }
   ],
   "source": [
    "# compute the accuracy of training data predictions\n",
    "y_pred_train = model.predict(X_train_dtm)\n",
    "print('train acc:', metrics.accuracy_score(y_train, y_pred_train))\n",
    "\n",
    "# make author (class) predictions for X_test_dtm\n",
    "y_pred_test = model.predict(X_test_dtm)\n",
    "print('test acc:', metrics.accuracy_score(y_test, y_pred_test))"
   ]
  },
  {
   "cell_type": "code",
   "execution_count": 31,
   "metadata": {},
   "outputs": [
    {
     "data": {
      "image/png": "[encoded data removed]",
      "text/plain": [
       "<matplotlib.figure.Figure at 0x10f03cf28>"
      ]
     },
     "metadata": {},
     "output_type": "display_data"
    }
   ],
   "source": [
    "import xgboost as xgb\n",
    "### Plot the important variables ###\n",
    "fig, ax = plt.subplots(figsize=(12,12))\n",
    "xgb.plot_importance(model, max_num_features=50, height=0.8, ax=ax)\n",
    "plt.show()"
   ]
  },
  {
   "cell_type": "markdown",
   "metadata": {},
   "source": [
    "confusion matrix"
   ]
  },
  {
   "cell_type": "code",
   "execution_count": 35,
   "metadata": {},
   "outputs": [],
   "source": [
    "import itertools\n",
    "from sklearn.metrics import confusion_matrix\n",
    "\n",
    "### From http://scikit-learn.org/stable/auto_examples/model_selection/plot_confusion_matrix.html#sphx-glr-auto-examples-model-selection-plot-confusion-matrix-py #\n",
    "def plot_confusion_matrix(cm, classes,\n",
    "                          normalize=False,\n",
    "                          title='Confusion matrix',\n",
    "                          cmap=plt.cm.Blues):\n",
    "    \"\"\"\n",
    "    This function prints and plots the confusion matrix.\n",
    "    Normalization can be applied by setting `normalize=True`.\n",
    "    \"\"\"\n",
    "    if normalize:\n",
    "        cm = cm.astype('float') / cm.sum(axis=1)[:, np.newaxis]\n",
    "        #print(\"Normalized confusion matrix\")\n",
    "    #else:\n",
    "    #    print('Confusion matrix, without normalization')\n",
    "\n",
    "    #print(cm)\n",
    "\n",
    "    plt.imshow(cm, interpolation='nearest', cmap=cmap)\n",
    "    plt.title(title)\n",
    "    plt.colorbar()\n",
    "    tick_marks = np.arange(len(classes))\n",
    "    plt.xticks(tick_marks, classes, rotation=45)\n",
    "    plt.yticks(tick_marks, classes)\n",
    "\n",
    "    fmt = '.2f' if normalize else 'd'\n",
    "    thresh = cm.max() / 2.\n",
    "    for i, j in itertools.product(range(cm.shape[0]), range(cm.shape[1])):\n",
    "        plt.text(j, i, format(cm[i, j], fmt),\n",
    "                 horizontalalignment=\"center\",\n",
    "                 color=\"white\" if cm[i, j] > thresh else \"black\")\n",
    "\n",
    "    plt.tight_layout()\n",
    "    plt.ylabel('True label')\n",
    "    plt.xlabel('Predicted label')"
   ]
  },
  {
   "cell_type": "code",
   "execution_count": 37,
   "metadata": {},
   "outputs": [
    {
     "name": "stdout",
     "output_type": "stream",
     "text": [
      "[[34  1  8 16]\n [ 5 27  4  1]\n [ 8  1 38  1]\n [14  0  2 20]]\n"
     ]
    },
    {
     "data": {
      "image/png": "[encoded data removed]",
      "text/plain": [
       "<matplotlib.figure.Figure at 0x10f332ac8>"
      ]
     },
     "metadata": {},
     "output_type": "display_data"
    }
   ],
   "source": [
    "cnf_matrix = confusion_matrix(y_test, y_pred_test)\n",
    "print(cnf_matrix)\n",
    "np.set_printoptions(precision=2)\n",
    "\n",
    "# Plot non-normalized confusion matrix\n",
    "plt.figure(figsize=(8, 8))\n",
    "plot_confusion_matrix(cnf_matrix, classes=[0, 1, 2, 3],\n",
    "                      title='Confusion matrix of XGB, without normalization')\n",
    "plt.show()"
   ]
  },
  {
   "cell_type": "code",
   "execution_count": null,
   "metadata": {},
   "outputs": [],
   "source": [
    ""
   ]
  }
 ],
 "metadata": {
  "kernelspec": {
   "display_name": "Python 2",
   "language": "python",
   "name": "python2"
  },
  "language_info": {
   "codemirror_mode": {
    "name": "ipython",
    "version": 2.0
   },
   "file_extension": ".py",
   "mimetype": "text/x-python",
   "name": "python",
   "nbconvert_exporter": "python",
   "pygments_lexer": "ipython2",
   "version": "2.7.6"
  }
 },
 "nbformat": 4,
 "nbformat_minor": 0
}